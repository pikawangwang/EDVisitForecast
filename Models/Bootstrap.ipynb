{
 "cells": [
  {
   "cell_type": "code",
   "execution_count": 1,
   "id": "e840ea2a-a6fd-4c2c-9225-048c2f8ea5fd",
   "metadata": {},
   "outputs": [],
   "source": [
    "import pandas as pd\n",
    "import numpy as np\n",
    "import matplotlib.pyplot as plt\n",
    "import scipy.stats as stats\n",
    "import os"
   ]
  },
  {
   "cell_type": "code",
   "execution_count": 7,
   "id": "40f001e9-65c8-4a18-af69-86859da88af6",
   "metadata": {},
   "outputs": [
    {
     "ename": "ModuleNotFoundError",
     "evalue": "No module named 'tools'",
     "output_type": "error",
     "traceback": [
      "\u001b[1;31m---------------------------------------------------------------------------\u001b[0m",
      "\u001b[1;31mModuleNotFoundError\u001b[0m                       Traceback (most recent call last)",
      "Cell \u001b[1;32mIn[7], line 1\u001b[0m\n\u001b[1;32m----> 1\u001b[0m \u001b[38;5;28;01mfrom\u001b[39;00m \u001b[38;5;21;01mtools\u001b[39;00m\u001b[38;5;21;01m.\u001b[39;00m\u001b[38;5;21;01mcalculate_95_ci\u001b[39;00m \u001b[38;5;28;01mimport\u001b[39;00m calculate_95_ci\n\u001b[0;32m      2\u001b[0m \u001b[38;5;28;01mfrom\u001b[39;00m \u001b[38;5;21;01mtools\u001b[39;00m\u001b[38;5;21;01m.\u001b[39;00m\u001b[38;5;21;01mcalculate_metrics\u001b[39;00m \u001b[38;5;28;01mimport\u001b[39;00m calculate_metrics\n",
      "\u001b[1;31mModuleNotFoundError\u001b[0m: No module named 'tools'"
     ]
    }
   ],
   "source": [
    "from tools.calculate_95_ci import calculate_95_ci\n",
    "from tools.calculate_metrics import calculate_metrics"
   ]
  },
  {
   "cell_type": "code",
   "execution_count": 2,
   "id": "c51c23fa-8a9f-497a-8956-d6c9064a46fd",
   "metadata": {},
   "outputs": [],
   "source": [
    "location = 'Taipei' \n",
    "model_type = 'LSTM' \n",
    "forecast_horizon ='7' \n",
    "location_params = {\n",
    "    'Linkou': {'train_end': 3362, 'val_end': 3727},\n",
    "    'Taipei': {'train_end': 3372, 'val_end': 3737},\n",
    "    'Kaohsiung': {'train_end': 3208, 'val_end': 3573},\n",
    "    'Keelung': {'train_end': 3274, 'val_end': 3639},\n",
    "    'Yunlin': {'train_end': 2557, 'val_end': 2922},\n",
    "    'Chiayi': {'train_end': 3237, 'val_end': 3602}\n",
    "}"
   ]
  },
  {
   "cell_type": "code",
   "execution_count": 3,
   "id": "d86fb102-66c3-4d73-9edf-4259700a8f22",
   "metadata": {},
   "outputs": [],
   "source": [
    "forecast_horizon_label = f\"FH{forecast_horizon}\"\n",
    "\n",
    "# Define paths for the result files, using 'FH30' in the filenames\n",
    "base_dir = os.path.abspath(os.path.join('..', 'Result', model_type, location))\n",
    "metrics_txt_path = os.path.join(base_dir, f'{location}_{model_type}_{forecast_horizon_label}_metrics.txt')"
   ]
  },
  {
   "cell_type": "code",
   "execution_count": 4,
   "id": "d314fe7d-ca13-41a8-8531-4cccc7976a82",
   "metadata": {},
   "outputs": [
    {
     "data": {
      "text/plain": [
       "'C:\\\\Users\\\\ian11\\\\Documents\\\\GitHub\\\\EDForecastCode\\\\Result\\\\LSTM\\\\Taipei'"
      ]
     },
     "execution_count": 4,
     "metadata": {},
     "output_type": "execute_result"
    }
   ],
   "source": [
    "base_dir"
   ]
  },
  {
   "cell_type": "code",
   "execution_count": 6,
   "id": "57e8a907-9b20-4430-b55b-d8ca73c2c3e0",
   "metadata": {},
   "outputs": [
    {
     "data": {
      "text/plain": [
       "'C:\\\\Users\\\\ian11\\\\Documents\\\\GitHub\\\\EDForecastCode\\\\Result\\\\LSTM\\\\Taipei\\\\Taipei_LSTM_FH7_metrics.txt'"
      ]
     },
     "execution_count": 6,
     "metadata": {},
     "output_type": "execute_result"
    }
   ],
   "source": [
    "metrics_txt_path"
   ]
  },
  {
   "cell_type": "code",
   "execution_count": null,
   "id": "340aa8cc-9790-4409-90ca-858f09366a80",
   "metadata": {},
   "outputs": [],
   "source": [
    "metrics_result = calculate_metrics(combined_series, yearly_dataarrays, APEdf, calculate_95_ci)\n",
    "\n",
    "if metrics_result is not None:\n",
    "    with open(metrics_txt_path, 'w') as f:\n",
    "        # Write location, model_type, and forecast_horizon each on a new line\n",
    "        f.write(f\"Location: {location}\\n\")\n",
    "        f.write(f\"Model: {model_type}\\n\")\n",
    "        f.write(f\"Forecast Horizon: {forecast_horizon_label}\\n\\n\")\n",
    "        \n",
    "        # Write header with aligned columns\n",
    "        f.write(f\"{'Period':<25} | {'MAE':<8} | {'MAPE':<8} | {'APE 95% CI':<20}\\n\")\n",
    "        f.write(\"-\" * 65 + \"\\n\")  # Separator line\n",
    "        \n",
    "        # Write each period's metrics in a single line, aligned\n",
    "        for period, metric in metrics_result.items():\n",
    "            if isinstance(metric['APE 95% CI'], tuple):\n",
    "                f.write(f\"{period:<25} | {metric['MAE']:<8.2f} | {metric['MAPE']:<7.2f}% | \"\n",
    "                        f\"({metric['APE 95% CI'][0]:.2f}, {metric['APE 95% CI'][1]:.2f})\\n\")\n",
    "            else:\n",
    "                f.write(f\"{period:<25} | {metric['MAE']:<8.2f} | {metric['MAPE']:<7.2f}% | \"\n",
    "                        f\"APE 95% CI: N/A\\n\")\n",
    "                \n",
    "    print(f\"Metrics saved to {metrics_txt_path}\")"
   ]
  }
 ],
 "metadata": {
  "kernelspec": {
   "display_name": "EDF1",
   "language": "python",
   "name": "edf1"
  },
  "language_info": {
   "codemirror_mode": {
    "name": "ipython",
    "version": 3
   },
   "file_extension": ".py",
   "mimetype": "text/x-python",
   "name": "python",
   "nbconvert_exporter": "python",
   "pygments_lexer": "ipython3",
   "version": "3.8.19"
  }
 },
 "nbformat": 4,
 "nbformat_minor": 5
}
